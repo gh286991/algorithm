{
 "cells": [
  {
   "cell_type": "code",
   "execution_count": 20,
   "metadata": {},
   "outputs": [
    {
     "name": "stdout",
     "output_type": "stream",
     "text": [
      "原始資料 = \n",
      " 54 97 32 30 30 36 31\n",
      " 54 32 30 30 36 31 97\n",
      " 32 30 30 36 31 54 97\n",
      " 30 30 32 31 36 54 97\n",
      " 30 30 31 32 36 54 97\n",
      " 30 30 31 32 36 54 97\n",
      " 30 30 31 32 36 54 97\n",
      " 30 30 31 32 36 54 97\n"
     ]
    }
   ],
   "source": [
    "#氣泡排序法\n",
    "data = [54,97,32,30,30,36,31]\n",
    "N = len(data)\n",
    "print('原始資料 = ' )\n",
    "\n",
    "for i in range(N):\n",
    "    print('%3d' %data[i],end = '')\n",
    "    \n",
    "print()\n",
    "for i in range(N-1,-1,-1):\n",
    "    for j in range(i):\n",
    "        if data[j] > data[j+1]:\n",
    "            data[j],data[j+1] = data[j+1],data[j]\n",
    "            \n",
    "    for j in range(N):\n",
    "        print('%3d' %data[j],end = '')\n",
    "    print()\n",
    "    "
   ]
  },
  {
   "cell_type": "code",
   "execution_count": 28,
   "metadata": {},
   "outputs": [
    {
     "name": "stdout",
     "output_type": "stream",
     "text": [
      "原始資料 = \n",
      "  76  11  67  55  20  96  96\n",
      " --------------------------------------\n",
      "   11   67   55   20   76   96   96\n",
      "   11   55   20   67   76   96   96\n",
      "   11   20   55   67   76   96   96\n",
      "   11   20   55   67   76   96   96\n",
      "   11   20   55   67   76   96   96\n",
      "   11   20   55   67   76   96   96\n",
      "   11   20   55   67   76   96   96\n"
     ]
    }
   ],
   "source": [
    "#氣泡排序法 (亂數)\n",
    "import random\n",
    "# print(random.randint(1,101))\n",
    "\n",
    "N = 7\n",
    "data= []\n",
    "for i in range(0,N):\n",
    "    data.append(random.randint(1,101))\n",
    "    \n",
    "print('原始資料 = ' )    \n",
    "for i in range(N):\n",
    "    print('%4d' %data[i],end = '')\n",
    "    \n",
    "print('\\n','--------------------------------------')\n",
    "for i in range(0,N,1):\n",
    "    for j in range(N-1):\n",
    "        if data[j+1] < data[j]:\n",
    "            data[j+1],data[j] = data[j],data[j+1]\n",
    "            \n",
    "    for j in range(N):\n",
    "        print('%5d' %data[j],end = '')\n",
    "    print()"
   ]
  },
  {
   "cell_type": "code",
   "execution_count": 35,
   "metadata": {},
   "outputs": [
    {
     "name": "stdout",
     "output_type": "stream",
     "text": [
      "原始資料 = \n",
      "  17  80  65   5  23  72  49  58  76  81\n",
      "--------------------------------\n",
      "\n",
      "   5  17  23  49  58  65  72  76  80  81"
     ]
    }
   ],
   "source": [
    "#選擇排序法\n",
    "\n",
    "N = 10\n",
    "data= []\n",
    "\n",
    "def random():  #呼叫隨機亂數\n",
    "    import random\n",
    "    for i in range(0,N):\n",
    "        data.append(random.randint(1,101))\n",
    "    print('原始資料 = ')\n",
    "    for i in range(N):\n",
    "        print('%4d' %data[i],end = '')\n",
    "        \n",
    "    return data\n",
    "#---------------------------------------------\n",
    "\n",
    "def select(data):\n",
    "    for i in range(N):\n",
    "        for j in range(i+1,N):\n",
    "            if data[i] > data[j]:\n",
    "                data[i],data[j] = data[j],data[i]\n",
    "    print()\n",
    "        \n",
    "random()\n",
    "print('\\n--------------------------------')\n",
    "select(data)\n",
    "\n",
    "for i in range(N):\n",
    "        print('%4d' %data[i],end = '')"
   ]
  },
  {
   "cell_type": "code",
   "execution_count": 41,
   "metadata": {},
   "outputs": [
    {
     "name": "stdout",
     "output_type": "stream",
     "text": [
      "原始資料 = \n",
      "  56  56  78  64  31  33  36"
     ]
    },
    {
     "data": {
      "text/plain": [
       "[56, 56, 78, 64, 31, 33, 36]"
      ]
     },
     "execution_count": 41,
     "metadata": {},
     "output_type": "execute_result"
    }
   ],
   "source": [
    "#插入排序法\n",
    "\n",
    "N = 7\n",
    "data= []\n",
    "\n",
    "def random():  #呼叫隨機亂數\n",
    "    import random\n",
    "    for i in range(0,N):\n",
    "        data.append(random.randint(1,101))\n",
    "    print('原始資料 = ')\n",
    "    for i in range(N):\n",
    "        print('%4d' %data[i],end = '')\n",
    "        \n",
    "    return data\n",
    "#---------------------------------------------\n",
    "\n",
    "random()\n"
   ]
  },
  {
   "cell_type": "code",
   "execution_count": null,
   "metadata": {},
   "outputs": [],
   "source": []
  }
 ],
 "metadata": {
  "kernelspec": {
   "display_name": "Python 3",
   "language": "python",
   "name": "python3"
  },
  "language_info": {
   "codemirror_mode": {
    "name": "ipython",
    "version": 3
   },
   "file_extension": ".py",
   "mimetype": "text/x-python",
   "name": "python",
   "nbconvert_exporter": "python",
   "pygments_lexer": "ipython3",
   "version": "3.6.4"
  }
 },
 "nbformat": 4,
 "nbformat_minor": 2
}
